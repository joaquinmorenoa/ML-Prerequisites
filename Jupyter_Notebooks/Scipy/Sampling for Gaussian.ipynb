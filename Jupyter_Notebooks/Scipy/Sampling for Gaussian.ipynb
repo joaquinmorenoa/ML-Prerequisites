{
 "cells": [
  {
   "cell_type": "markdown",
   "metadata": {},
   "source": [
    "# Sampling for Gaussian"
   ]
  },
  {
   "cell_type": "code",
   "execution_count": 13,
   "metadata": {
    "collapsed": true
   },
   "outputs": [],
   "source": [
    "from scipy.stats import norm\n",
    "import numpy as np\n",
    "import matplotlib.pyplot as plt\n",
    "\n",
    "r = np.random.randn(10000)"
   ]
  },
  {
   "cell_type": "code",
   "execution_count": 14,
   "metadata": {},
   "outputs": [
    {
     "data": {
      "text/plain": [
       "(array([   1.,    0.,    0.,    0.,    0.,    0.,    1.,    1.,    1.,\n",
       "           1.,    1.,    4.,    5.,    2.,    4.,   11.,   20.,   10.,\n",
       "          17.,   26.,   20.,   26.,   42.,   55.,   50.,   55.,   92.,\n",
       "          86.,  114.,  111.,  140.,  171.,  168.,  192.,  207.,  215.,\n",
       "         250.,  288.,  295.,  312.,  316.,  324.,  346.,  365.,  364.,\n",
       "         354.,  328.,  353.,  368.,  292.,  319.,  296.,  294.,  300.,\n",
       "         282.,  224.,  241.,  191.,  224.,  166.,  135.,  144.,  116.,\n",
       "         107.,   87.,   79.,   64.,   73.,   41.,   40.,   39.,   29.,\n",
       "          30.,   16.,   11.,    5.,   14.,   10.,    5.,    2.,    2.,\n",
       "           2.,    1.,    2.,    0.,    2.,    0.,    1.,    0.,    0.,\n",
       "           1.,    0.,    0.,    0.,    0.,    0.,    0.,    0.,    0.,    1.]),\n",
       " array([-4.10652061, -4.01713461, -3.92774861, -3.8383626 , -3.7489766 ,\n",
       "        -3.6595906 , -3.5702046 , -3.48081859, -3.39143259, -3.30204659,\n",
       "        -3.21266059, -3.12327458, -3.03388858, -2.94450258, -2.85511658,\n",
       "        -2.76573057, -2.67634457, -2.58695857, -2.49757257, -2.40818656,\n",
       "        -2.31880056, -2.22941456, -2.14002856, -2.05064255, -1.96125655,\n",
       "        -1.87187055, -1.78248455, -1.69309854, -1.60371254, -1.51432654,\n",
       "        -1.42494053, -1.33555453, -1.24616853, -1.15678253, -1.06739652,\n",
       "        -0.97801052, -0.88862452, -0.79923852, -0.70985251, -0.62046651,\n",
       "        -0.53108051, -0.44169451, -0.3523085 , -0.2629225 , -0.1735365 ,\n",
       "        -0.0841505 ,  0.00523551,  0.09462151,  0.18400751,  0.27339351,\n",
       "         0.36277952,  0.45216552,  0.54155152,  0.63093752,  0.72032353,\n",
       "         0.80970953,  0.89909553,  0.98848153,  1.07786754,  1.16725354,\n",
       "         1.25663954,  1.34602555,  1.43541155,  1.52479755,  1.61418355,\n",
       "         1.70356956,  1.79295556,  1.88234156,  1.97172756,  2.06111357,\n",
       "         2.15049957,  2.23988557,  2.32927157,  2.41865758,  2.50804358,\n",
       "         2.59742958,  2.68681558,  2.77620159,  2.86558759,  2.95497359,\n",
       "         3.04435959,  3.1337456 ,  3.2231316 ,  3.3125176 ,  3.4019036 ,\n",
       "         3.49128961,  3.58067561,  3.67006161,  3.75944761,  3.84883362,\n",
       "         3.93821962,  4.02760562,  4.11699162,  4.20637763,  4.29576363,\n",
       "         4.38514963,  4.47453564,  4.56392164,  4.65330764,  4.74269364,\n",
       "         4.83207965]),\n",
       " <a list of 100 Patch objects>)"
      ]
     },
     "execution_count": 14,
     "metadata": {},
     "output_type": "execute_result"
    }
   ],
   "source": [
    "plt.hist(r, bins=100)"
   ]
  },
  {
   "cell_type": "code",
   "execution_count": 15,
   "metadata": {},
   "outputs": [
    {
     "data": {
      "image/png": "[encoded data removed]",
      "text/plain": [
       "<matplotlib.figure.Figure at 0x2ab1e9773c8>"
      ]
     },
     "metadata": {},
     "output_type": "display_data"
    }
   ],
   "source": [
    "plt.show()"
   ]
  },
  {
   "cell_type": "markdown",
   "metadata": {},
   "source": [
    "So if we want to sample from Gausi and distribution that has an arbitrary mean and standard deviation. We can in fact use the same function. We just need to scale it and add the mean."
   ]
  },
  {
   "cell_type": "code",
   "execution_count": 17,
   "metadata": {},
   "outputs": [
    {
     "data": {
      "image/png": "[encoded data removed]",
      "text/plain": [
       "<matplotlib.figure.Figure at 0x2ab1eafb710>"
      ]
     },
     "metadata": {},
     "output_type": "display_data"
    }
   ],
   "source": [
    "r = 10*np.random.randn(10000) + 5\n",
    "plt.hist(r, bins=100)\n",
    "plt.show()"
   ]
  },
  {
   "cell_type": "code",
   "execution_count": null,
   "metadata": {
    "collapsed": true
   },
   "outputs": [],
   "source": []
  },
  {
   "cell_type": "code",
   "execution_count": null,
   "metadata": {
    "collapsed": true
   },
   "outputs": [],
   "source": []
  },
  {
   "cell_type": "code",
   "execution_count": null,
   "metadata": {
    "collapsed": true
   },
   "outputs": [],
   "source": []
  }
 ],
 "metadata": {
  "kernelspec": {
   "display_name": "Python 3",
   "language": "python",
   "name": "python3"
  },
  "language_info": {
   "codemirror_mode": {
    "name": "ipython",
    "version": 3
   },
   "file_extension": ".py",
   "mimetype": "text/x-python",
   "name": "python",
   "nbconvert_exporter": "python",
   "pygments_lexer": "ipython3",
   "version": "3.6.4"
  }
 },
 "nbformat": 4,
 "nbformat_minor": 2
}
